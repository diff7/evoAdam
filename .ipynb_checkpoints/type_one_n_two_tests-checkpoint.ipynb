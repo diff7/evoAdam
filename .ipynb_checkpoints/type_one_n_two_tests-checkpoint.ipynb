{
 "cells": [
  {
   "cell_type": "code",
   "execution_count": 36,
   "metadata": {},
   "outputs": [],
   "source": [
    "from datetime import datetime\n",
    "\n",
    "import torch\n",
    "import torchvision\n",
    "import torch.nn as nn\n",
    "import torchvision.transforms as transforms\n",
    "from torch.optim.optimizer import Optimizer, required\n",
    "\n",
    "from logger import Logger\n",
    "from solver import Solver\n",
    "from crossngover import CrossN"
   ]
  },
  {
   "cell_type": "code",
   "execution_count": 14,
   "metadata": {},
   "outputs": [],
   "source": [
    "#!pip install tqdm"
   ]
  },
  {
   "cell_type": "code",
   "execution_count": 37,
   "metadata": {},
   "outputs": [
    {
     "name": "stdout",
     "output_type": "stream",
     "text": [
      "Files already downloaded and verified\n",
      "Files already downloaded and verified\n"
     ]
    }
   ],
   "source": [
    "transform = transforms.Compose(\n",
    "    [transforms.ToTensor(),\n",
    "     transforms.Normalize([0.485, 0.456, 0.406], [0.229, 0.224, 0.225])])\n",
    "\n",
    "trainset = torchvision.datasets.CIFAR10(root='./data', train=True,\n",
    "                                        download=True, transform=transform)\n",
    "trainloader = torch.utils.data.DataLoader(trainset, batch_size=216,\n",
    "                                          shuffle=False, num_workers=2)\n",
    "\n",
    "testset = torchvision.datasets.CIFAR10(root='./data', train=False,\n",
    "                                       download=True, transform=transform)\n",
    "testloader = torch.utils.data.DataLoader(testset, batch_size=216,\n",
    "                                         shuffle=False, num_workers=2)"
   ]
  },
  {
   "cell_type": "code",
   "execution_count": 39,
   "metadata": {},
   "outputs": [
    {
     "name": "stdout",
     "output_type": "stream",
     "text": [
      "\n"
     ]
    }
   ],
   "source": [
    "net = torchvision.models.mobilenet_v2(pretrained=False)\n",
    "num_ftrs = net.last_channel\n",
    "\n",
    "classes = ('plane', 'car', 'bird', 'cat',\n",
    "        'deer', 'dog', 'frog', 'horse', 'ship', 'truck')\n",
    "\n",
    "net.classifier = nn.Linear(num_ftrs, len(classes))\n",
    "net.cuda()\n",
    "print()"
   ]
  },
  {
   "cell_type": "code",
   "execution_count": 3,
   "metadata": {},
   "outputs": [
    {
     "data": {
      "text/plain": [
       "Linear(in_features=2048, out_features=1000, bias=True)"
      ]
     },
     "execution_count": 3,
     "metadata": {},
     "output_type": "execute_result"
    }
   ],
   "source": [
    "# net = torchvision.models.resnet101(pretrained=False)\n",
    "# net.fc"
   ]
  },
  {
   "cell_type": "code",
   "execution_count": 4,
   "metadata": {},
   "outputs": [
    {
     "name": "stdout",
     "output_type": "stream",
     "text": [
      "\n"
     ]
    }
   ],
   "source": [
    "# num_ftrs = 1000\n",
    "\n",
    "# classes = ('plane', 'car', 'bird', 'cat',\n",
    "#         'deer', 'dog', 'frog', 'horse', 'ship', 'truck')\n",
    "\n",
    "# net.classifier = nn.Linear(num_ftrs, len(classes))\n",
    "# net.cuda()\n",
    "# print()"
   ]
  },
  {
   "cell_type": "markdown",
   "metadata": {},
   "source": [
    "mobilenet from 0:\n",
    "- Evo + Cross  - DONE\n",
    "- Evo Only - DONE\n",
    "- Standard - processing\n",
    "\n",
    "resnet from 0:\n",
    "- Evo + Cross - DONE\n",
    "- Evo Only - DONE\n",
    "- Standard\n",
    "\n",
    "mobilenet pretrained:\n",
    "- Evo + Cross  - DONE\n",
    "- Evo Only   - DONE\n",
    "- Standard\n",
    "\n",
    "resnet pretrained:\n",
    "- Evo + Cross  - DONE\n",
    "- Evo Only - DONE\n",
    "- Standard"
   ]
  },
  {
   "cell_type": "code",
   "execution_count": 42,
   "metadata": {},
   "outputs": [],
   "source": [
    "experiment_note = \"\"\" \n",
    "NET: mobilenet\n",
    "pretrained: False\n",
    "Training mode: No Evo and CrossN\n",
    "Optimizer SGD\n",
    "lr = 0.001 \n",
    "momentum = 0.9\n",
    "epochs = 100\n",
    "Params: Default\"\"\"\n",
    "\n",
    "logger = Logger('train', experiment_note)"
   ]
  },
  {
   "cell_type": "code",
   "execution_count": 43,
   "metadata": {},
   "outputs": [
    {
     "data": {
      "text/plain": [
       "'./experiments/2019-12-14/train_22:10'"
      ]
     },
     "execution_count": 43,
     "metadata": {},
     "output_type": "execute_result"
    }
   ],
   "source": [
    "logger.path"
   ]
  },
  {
   "cell_type": "code",
   "execution_count": 7,
   "metadata": {},
   "outputs": [],
   "source": [
    "# post_note = \"Test After Experiment info\"\n",
    "# logger.add_post_result(post_note)"
   ]
  },
  {
   "cell_type": "code",
   "execution_count": 44,
   "metadata": {},
   "outputs": [],
   "source": [
    "lr = 0.001\n",
    "\n",
    "optimizer = torch.optim.SGD(net.parameters(), lr=lr, momentum=0.9)\n",
    "criterion = nn.CrossEntropyLoss()\n",
    "evo_optim = CrossN()\n",
    "\n",
    "def validation(net, dataloader):\n",
    "    correct = 0\n",
    "    total = 0\n",
    "    with torch.no_grad():\n",
    "        for data in dataloader:\n",
    "            images, labels = data\n",
    "            images = images.cuda()\n",
    "            labels = labels.cuda()\n",
    "            outputs = net(images)\n",
    "            _, predicted = torch.max(outputs.data, 1)\n",
    "            total += labels.size(0)\n",
    "            correct += (predicted == labels).sum().item()\n",
    "    return float(100 * correct / total)"
   ]
  },
  {
   "cell_type": "code",
   "execution_count": 45,
   "metadata": {},
   "outputs": [],
   "source": [
    "solver = Solver(\n",
    "    net,\n",
    "    optimizer,\n",
    "    logger,\n",
    "    criterion,\n",
    "    validation,\n",
    "    evo_optim, \n",
    "    trainloader,\n",
    "    testloader,\n",
    "    testloader,  \n",
    "    epochs=100,\n",
    "    evo_step=100,\n",
    "    child_count=20,\n",
    "    best_child_count=3,\n",
    "    mode='normal',\n",
    "    debug=False,\n",
    "    lr=lr)"
   ]
  },
  {
   "cell_type": "code",
   "execution_count": null,
   "metadata": {},
   "outputs": [
    {
     "name": "stdout",
     "output_type": "stream",
     "text": [
      "Start training\n",
      "Epoch: 0\n"
     ]
    },
    {
     "name": "stderr",
     "output_type": "stream",
     "text": [
      "100%|██████████| 19/19 [00:28<00:00,  1.52s/it]"
     ]
    },
    {
     "name": "stdout",
     "output_type": "stream",
     "text": [
      "best child - 10.0\n",
      "Epoch: 1\n"
     ]
    },
    {
     "name": "stderr",
     "output_type": "stream",
     "text": [
      "\n"
     ]
    },
    {
     "name": "stdout",
     "output_type": "stream",
     "text": [
      "[2] loss: 1.960 validation score: 24.49 %\n",
      "Epoch: 2\n",
      "[3] loss: 1.823 validation score: 35.09 %\n",
      "Epoch: 3\n",
      "[4] loss: 1.558 validation score: 41.02 %\n",
      "Epoch: 4\n",
      "[5] loss: 1.435 validation score: 43.65 %\n",
      "Epoch: 5\n",
      "[6] loss: 1.352 validation score: 45.44 %\n",
      "Epoch: 6\n",
      "[7] loss: 1.267 validation score: 47.31 %\n",
      "Epoch: 7\n",
      "[8] loss: 1.220 validation score: 48.44 %\n",
      "Epoch: 8\n",
      "[9] loss: 1.163 validation score: 48.97 %\n",
      "Epoch: 9\n",
      "[10] loss: 1.127 validation score: 49.74 %\n",
      "Epoch: 10\n",
      "[11] loss: 1.089 validation score: 50.01 %\n",
      "Epoch: 11\n",
      "[12] loss: 1.022 validation score: 50.56 %\n",
      "Epoch: 12\n",
      "[13] loss: 0.936 validation score: 51.44 %\n",
      "Epoch: 13\n",
      "[14] loss: 0.878 validation score: 51.65 %\n",
      "Epoch: 14\n",
      "[15] loss: 0.929 validation score: 52.36 %\n",
      "Epoch: 15\n",
      "[16] loss: 0.813 validation score: 52.60 %\n",
      "Epoch: 16\n",
      "[17] loss: 0.776 validation score: 52.54 %\n",
      "Epoch: 17\n",
      "[18] loss: 0.717 validation score: 52.68 %\n",
      "Epoch: 18\n",
      "[19] loss: 0.660 validation score: 52.66 %\n",
      "Epoch: 19\n",
      "[20] loss: 0.634 validation score: 53.39 %\n",
      "Epoch: 20\n",
      "[21] loss: 0.584 validation score: 52.32 %\n",
      "Epoch: 21\n",
      "[22] loss: 0.571 validation score: 52.35 %\n",
      "Epoch: 22\n",
      "[23] loss: 0.535 validation score: 52.07 %\n",
      "Epoch: 23\n",
      "[24] loss: 0.513 validation score: 52.28 %\n",
      "Epoch: 24\n",
      "[25] loss: 0.457 validation score: 52.28 %\n",
      "Epoch: 25\n",
      "[26] loss: 0.413 validation score: 51.71 %\n",
      "Epoch: 26\n",
      "[27] loss: 0.466 validation score: 52.40 %\n",
      "Epoch: 27\n",
      "[28] loss: 0.376 validation score: 51.99 %\n",
      "Epoch: 28\n",
      "[29] loss: 0.352 validation score: 51.87 %\n",
      "Epoch: 29\n",
      "[30] loss: 0.350 validation score: 51.61 %\n",
      "Epoch: 30\n",
      "[31] loss: 0.278 validation score: 51.82 %\n",
      "Epoch: 31\n",
      "[32] loss: 0.316 validation score: 52.26 %\n",
      "Epoch: 32\n",
      "[33] loss: 0.287 validation score: 51.72 %\n",
      "Epoch: 33\n",
      "[34] loss: 0.283 validation score: 51.91 %\n",
      "Epoch: 34\n",
      "[35] loss: 0.233 validation score: 51.99 %\n",
      "Epoch: 35\n"
     ]
    }
   ],
   "source": [
    "logger.add_post_result(f'start: {datetime.now()}')\n",
    "solver.start()\n",
    "logger.add_post_result(f'finish: {datetime.now()}')\n",
    "logger.close()"
   ]
  },
  {
   "cell_type": "code",
   "execution_count": 25,
   "metadata": {},
   "outputs": [],
   "source": [
    "logger.close()"
   ]
  }
 ],
 "metadata": {
  "kernelspec": {
   "display_name": "Python 3",
   "language": "python",
   "name": "python3"
  },
  "language_info": {
   "codemirror_mode": {
    "name": "ipython",
    "version": 3
   },
   "file_extension": ".py",
   "mimetype": "text/x-python",
   "name": "python",
   "nbconvert_exporter": "python",
   "pygments_lexer": "ipython3",
   "version": "3.7.3"
  }
 },
 "nbformat": 4,
 "nbformat_minor": 4
}
