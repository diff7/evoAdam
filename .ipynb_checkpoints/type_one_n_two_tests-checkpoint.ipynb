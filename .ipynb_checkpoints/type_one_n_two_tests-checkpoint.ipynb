{
 "cells": [
  {
   "cell_type": "code",
   "execution_count": 6,
   "metadata": {},
   "outputs": [],
   "source": [
    "import torch\n",
    "import torchvision\n",
    "import torch.nn as nn\n",
    "import torchvision.transforms as transforms\n",
    "from torch.optim.optimizer import Optimizer, required\n",
    "\n",
    "from logger import Logger\n",
    "from solver import Solver\n",
    "from crossngover import CrossN"
   ]
  },
  {
   "cell_type": "code",
   "execution_count": 7,
   "metadata": {},
   "outputs": [
    {
     "name": "stderr",
     "output_type": "stream",
     "text": [
      "0it [00:00, ?it/s]"
     ]
    },
    {
     "name": "stdout",
     "output_type": "stream",
     "text": [
      "Downloading https://www.cs.toronto.edu/~kriz/cifar-10-python.tar.gz to ./data/cifar-10-python.tar.gz\n"
     ]
    },
    {
     "name": "stderr",
     "output_type": "stream",
     "text": [
      " 99%|█████████▉| 169451520/170498071 [00:15<00:00, 11677737.94it/s]"
     ]
    },
    {
     "name": "stdout",
     "output_type": "stream",
     "text": [
      "Extracting ./data/cifar-10-python.tar.gz to ./data\n",
      "Files already downloaded and verified\n"
     ]
    }
   ],
   "source": [
    "transform = transforms.Compose(\n",
    "    [transforms.ToTensor(),\n",
    "     transforms.Normalize((0.5, 0.5, 0.5), (0.5, 0.5, 0.5))])\n",
    "\n",
    "trainset = torchvision.datasets.CIFAR10(root='./data', train=True,\n",
    "                                        download=True, transform=transform)\n",
    "trainloader = torch.utils.data.DataLoader(trainset, batch_size=512,\n",
    "                                          shuffle=True, num_workers=2)\n",
    "\n",
    "testset = torchvision.datasets.CIFAR10(root='./data', train=False,\n",
    "                                       download=True, transform=transform)\n",
    "testloader = torch.utils.data.DataLoader(testset, batch_size=512,\n",
    "                                         shuffle=False, num_workers=2)\n",
    "\n",
    "classes = ('plane', 'car', 'bird', 'cat',\n",
    "           'deer', 'dog', 'frog', 'horse', 'ship', 'truck')"
   ]
  },
  {
   "cell_type": "code",
   "execution_count": 8,
   "metadata": {},
   "outputs": [
    {
     "name": "stderr",
     "output_type": "stream",
     "text": [
      "170500096it [00:30, 11677737.94it/s]                               "
     ]
    }
   ],
   "source": [
    "experiment_note = \"\"\" \n",
    "NET: mobilenet_v2\n",
    "Expereiment goal: collect the data\n",
    "Net status: pretrained\n",
    "Training mode: Normal Evo + Crossn\n",
    "Optimizer SGD\n",
    "lr=0.001 \n",
    "momentum=0.9\n",
    "epochs=100\n",
    "Params: Default\"\"\"\n",
    "\n",
    "logger = Logger('debug_01', experiment_note)"
   ]
  },
  {
   "cell_type": "code",
   "execution_count": 9,
   "metadata": {},
   "outputs": [
    {
     "data": {
      "text/plain": [
       "'./experiments/2019-11-24/debug_01_20:32'"
      ]
     },
     "execution_count": 9,
     "metadata": {},
     "output_type": "execute_result"
    }
   ],
   "source": [
    "logger.path"
   ]
  },
  {
   "cell_type": "code",
   "execution_count": 10,
   "metadata": {},
   "outputs": [],
   "source": [
    "# post_note = \"Test After Experiment info\"\n",
    "# logger.add_post_result(post_note)"
   ]
  },
  {
   "cell_type": "code",
   "execution_count": 11,
   "metadata": {},
   "outputs": [
    {
     "name": "stderr",
     "output_type": "stream",
     "text": [
      "Downloading: \"https://download.pytorch.org/models/mobilenet_v2-b0353104.pth\" to /home/jovyan/.cache/torch/checkpoints/mobilenet_v2-b0353104.pth\n",
      "\n",
      "  0%|          | 0.00/13.6M [00:00<?, ?B/s]\u001b[A\n",
      "  1%|          | 80.0k/13.6M [00:00<00:17, 799kB/s]\u001b[A\n",
      "  3%|▎         | 408k/13.6M [00:00<00:13, 1.04MB/s]\u001b[A\n",
      " 10%|▉         | 1.33M/13.6M [00:00<00:09, 1.42MB/s]\u001b[A\n",
      " 18%|█▊        | 2.44M/13.6M [00:00<00:06, 1.92MB/s]\u001b[A\n",
      " 26%|██▌       | 3.55M/13.6M [00:00<00:04, 2.56MB/s]\u001b[A\n",
      " 34%|███▍      | 4.67M/13.6M [00:00<00:02, 3.35MB/s]\u001b[A\n",
      " 43%|████▎     | 5.80M/13.6M [00:00<00:01, 4.26MB/s]\u001b[A\n",
      " 51%|█████     | 6.91M/13.6M [00:00<00:01, 5.26MB/s]\u001b[A\n",
      " 59%|█████▉    | 8.03M/13.6M [00:00<00:00, 6.29MB/s]\u001b[A\n",
      " 68%|██████▊   | 9.16M/13.6M [00:01<00:00, 7.30MB/s]\u001b[A\n",
      " 76%|███████▌  | 10.3M/13.6M [00:01<00:00, 8.22MB/s]\u001b[A\n",
      " 84%|████████▍ | 11.4M/13.6M [00:01<00:00, 9.01MB/s]\u001b[A\n",
      "100%|██████████| 13.6M/13.6M [00:01<00:00, 10.1MB/s]\n"
     ]
    }
   ],
   "source": [
    "net = torchvision.models.mobilenet_v2(pretrained=True)\n",
    "optimizer = torch.optim.SGD(net.parameters(), lr=0.001, momentum=0.9)\n",
    "criterion = nn.CrossEntropyLoss()\n",
    "evo_optim = CrossN()\n",
    "\n",
    "def validation(net, dataloader):\n",
    "    correct = 0\n",
    "    total = 0\n",
    "    with torch.no_grad():\n",
    "        for data in dataloader:\n",
    "            images, labels = data\n",
    "            images = images #.cuda()\n",
    "            labels = labels #.cuda()\n",
    "            outputs = net(images)\n",
    "            _, predicted = torch.max(outputs.data, 1)\n",
    "            total += labels.size(0)\n",
    "            correct += (predicted == labels).sum().item()\n",
    "    return 100 * correct / total"
   ]
  },
  {
   "cell_type": "code",
   "execution_count": 12,
   "metadata": {},
   "outputs": [],
   "source": [
    "solver = Solver(\n",
    "    net,\n",
    "    optimizer,\n",
    "    logger,\n",
    "    criterion,\n",
    "    validation,\n",
    "    evo_optim, \n",
    "    trainloader,\n",
    "    testloader,\n",
    "    testloader)"
   ]
  },
  {
   "cell_type": "code",
   "execution_count": null,
   "metadata": {},
   "outputs": [
    {
     "name": "stdout",
     "output_type": "stream",
     "text": [
      "Start training\n",
      "Epoch: 0\n"
     ]
    }
   ],
   "source": [
    "solver.start()"
   ]
  }
 ],
 "metadata": {
  "kernelspec": {
   "display_name": "Python 3",
   "language": "python",
   "name": "python3"
  },
  "language_info": {
   "codemirror_mode": {
    "name": "ipython",
    "version": 3
   },
   "file_extension": ".py",
   "mimetype": "text/x-python",
   "name": "python",
   "nbconvert_exporter": "python",
   "pygments_lexer": "ipython3",
   "version": "3.7.3"
  }
 },
 "nbformat": 4,
 "nbformat_minor": 4
}
