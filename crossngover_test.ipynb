{
 "cells": [
  {
   "cell_type": "code",
   "execution_count": 2,
   "metadata": {},
   "outputs": [],
   "source": [
    "from copy import deepcopy\n",
    "import torchvision\n",
    "import torch.nn as nn\n",
    "\n",
    "net = torchvision.models.resnet18(pretrained=True)\n",
    "num_ftrs = net.fc.in_features\n",
    "\n",
    "classes = ('plane', 'car', 'bird', 'cat',\n",
    "           'deer', 'dog', 'frog', 'horse', 'ship', 'truck')\n",
    "\n",
    "net.fc = nn.Linear(num_ftrs, len(classes))"
   ]
  },
  {
   "cell_type": "code",
   "execution_count": 3,
   "metadata": {},
   "outputs": [],
   "source": [
    "net_one = deepcopy(net)\n",
    "net_two = deepcopy(net)\n",
    "net_three = deepcopy(net)"
   ]
  },
  {
   "cell_type": "code",
   "execution_count": 4,
   "metadata": {},
   "outputs": [],
   "source": [
    "from crossngover import CrossN\n",
    "\n",
    "cross = CrossN()"
   ]
  },
  {
   "cell_type": "code",
   "execution_count": 5,
   "metadata": {},
   "outputs": [
    {
     "name": "stderr",
     "output_type": "stream",
     "text": [
      "9it [00:06,  1.45it/s]\n"
     ]
    }
   ],
   "source": [
    "children = cross.breed([net_one,net_two,net_three])"
   ]
  },
  {
   "cell_type": "code",
   "execution_count": 6,
   "metadata": {},
   "outputs": [
    {
     "name": "stdout",
     "output_type": "stream",
     "text": [
      "+[A]\n",
      "  +0.5.[A]\n"
     ]
    }
   ],
   "source": [
    "cross.history(children[0])"
   ]
  },
  {
   "cell_type": "code",
   "execution_count": 7,
   "metadata": {},
   "outputs": [
    {
     "name": "stderr",
     "output_type": "stream",
     "text": [
      "9it [00:02,  3.46it/s]\n"
     ]
    }
   ],
   "source": [
    "children_gen_two = cross.breed(children[:3])"
   ]
  },
  {
   "cell_type": "code",
   "execution_count": 8,
   "metadata": {},
   "outputs": [
    {
     "name": "stdout",
     "output_type": "stream",
     "text": [
      "+[A]\n",
      "  +0.5.[A]\n",
      "    +0.5.[A]\n",
      "      +0.5.[C]\n"
     ]
    }
   ],
   "source": [
    "cross.history(children_gen_two[2])"
   ]
  },
  {
   "cell_type": "code",
   "execution_count": 9,
   "metadata": {},
   "outputs": [
    {
     "name": "stderr",
     "output_type": "stream",
     "text": [
      "9it [00:02,  3.79it/s]\n"
     ]
    }
   ],
   "source": [
    "children_gen_three = cross.breed(children_gen_two[:3])"
   ]
  },
  {
   "cell_type": "code",
   "execution_count": 10,
   "metadata": {},
   "outputs": [
    {
     "name": "stdout",
     "output_type": "stream",
     "text": [
      "+[A]\n",
      "  +0.5.[A]\n",
      "    +0.5.[A]\n",
      "      +0.5.[B]\n",
      "        +0.5.[A]\n",
      "          +0.5.[A]\n",
      "            +0.5.[A]\n",
      "              +0.5.[C]\n"
     ]
    }
   ],
   "source": [
    "cross.history(children_gen_three[5])"
   ]
  }
 ],
 "metadata": {
  "kernelspec": {
   "display_name": "Python 3",
   "language": "python",
   "name": "python3"
  },
  "language_info": {
   "codemirror_mode": {
    "name": "ipython",
    "version": 3
   },
   "file_extension": ".py",
   "mimetype": "text/x-python",
   "name": "python",
   "nbconvert_exporter": "python",
   "pygments_lexer": "ipython3",
   "version": "3.6.8"
  }
 },
 "nbformat": 4,
 "nbformat_minor": 4
}
