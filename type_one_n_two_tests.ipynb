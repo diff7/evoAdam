{
 "cells": [
  {
   "cell_type": "code",
   "execution_count": 1,
   "metadata": {},
   "outputs": [],
   "source": [
    "from datetime import datetime\n",
    "\n",
    "import torch\n",
    "import torchvision\n",
    "import torch.nn as nn\n",
    "import torchvision.transforms as transforms\n",
    "from torch.optim.optimizer import Optimizer, required\n",
    "\n",
    "from logger import Logger\n",
    "from solver import Solver\n",
    "from crossngover import CrossN"
   ]
  },
  {
   "cell_type": "code",
   "execution_count": null,
   "metadata": {},
   "outputs": [],
   "source": []
  },
  {
   "cell_type": "code",
   "execution_count": 14,
   "metadata": {},
   "outputs": [],
   "source": [
    "#!pip install tqdm"
   ]
  },
  {
   "cell_type": "code",
   "execution_count": 2,
   "metadata": {},
   "outputs": [
    {
     "name": "stdout",
     "output_type": "stream",
     "text": [
      "Files already downloaded and verified\n",
      "Files already downloaded and verified\n"
     ]
    }
   ],
   "source": [
    "transform = transforms.Compose(\n",
    "    [transforms.ToTensor(),\n",
    "     transforms.Normalize([0.485, 0.456, 0.406], [0.229, 0.224, 0.225])])\n",
    "\n",
    "trainset = torchvision.datasets.CIFAR10(root='./data', train=True,\n",
    "                                        download=True, transform=transform)\n",
    "trainloader = torch.utils.data.DataLoader(trainset, batch_size=216,\n",
    "                                          shuffle=False, num_workers=2)\n",
    "\n",
    "testset = torchvision.datasets.CIFAR10(root='./data', train=False,\n",
    "                                       download=True, transform=transform)\n",
    "testloader = torch.utils.data.DataLoader(testset, batch_size=216,\n",
    "                                         shuffle=False, num_workers=2)"
   ]
  },
  {
   "cell_type": "code",
   "execution_count": 54,
   "metadata": {},
   "outputs": [],
   "source": [
    "# net = torchvision.models.mobilenet_v2(pretrained=True)\n",
    "# num_ftrs = net.last_channel\n",
    "\n",
    "# classes = ('plane', 'car', 'bird', 'cat',\n",
    "#         'deer', 'dog', 'frog', 'horse', 'ship', 'truck')\n",
    "\n",
    "# net.classifier = nn.Linear(num_ftrs, len(classes))\n",
    "# net.cuda()\n",
    "# print()"
   ]
  },
  {
   "cell_type": "code",
   "execution_count": 3,
   "metadata": {},
   "outputs": [
    {
     "data": {
      "text/plain": [
       "Linear(in_features=2048, out_features=1000, bias=True)"
      ]
     },
     "execution_count": 3,
     "metadata": {},
     "output_type": "execute_result"
    }
   ],
   "source": [
    "net = torchvision.models.resnet101(pretrained=True)\n",
    "net.fc"
   ]
  },
  {
   "cell_type": "code",
   "execution_count": 4,
   "metadata": {},
   "outputs": [
    {
     "ename": "AssertionError",
     "evalue": "\nFound no NVIDIA driver on your system. Please check that you\nhave an NVIDIA GPU and installed a driver from\nhttp://www.nvidia.com/Download/index.aspx",
     "output_type": "error",
     "traceback": [
      "\u001b[0;31m---------------------------------------------------------------------------\u001b[0m",
      "\u001b[0;31mAssertionError\u001b[0m                            Traceback (most recent call last)",
      "\u001b[0;32m<ipython-input-4-73677165c83a>\u001b[0m in \u001b[0;36m<module>\u001b[0;34m\u001b[0m\n\u001b[1;32m      5\u001b[0m \u001b[0;34m\u001b[0m\u001b[0m\n\u001b[1;32m      6\u001b[0m \u001b[0mnet\u001b[0m\u001b[0;34m.\u001b[0m\u001b[0mclassifier\u001b[0m \u001b[0;34m=\u001b[0m \u001b[0mnn\u001b[0m\u001b[0;34m.\u001b[0m\u001b[0mLinear\u001b[0m\u001b[0;34m(\u001b[0m\u001b[0mnum_ftrs\u001b[0m\u001b[0;34m,\u001b[0m \u001b[0mlen\u001b[0m\u001b[0;34m(\u001b[0m\u001b[0mclasses\u001b[0m\u001b[0;34m)\u001b[0m\u001b[0;34m)\u001b[0m\u001b[0;34m\u001b[0m\u001b[0;34m\u001b[0m\u001b[0m\n\u001b[0;32m----> 7\u001b[0;31m \u001b[0mnet\u001b[0m\u001b[0;34m.\u001b[0m\u001b[0mcuda\u001b[0m\u001b[0;34m(\u001b[0m\u001b[0;34m)\u001b[0m\u001b[0;34m\u001b[0m\u001b[0;34m\u001b[0m\u001b[0m\n\u001b[0m\u001b[1;32m      8\u001b[0m \u001b[0mprint\u001b[0m\u001b[0;34m(\u001b[0m\u001b[0;34m)\u001b[0m\u001b[0;34m\u001b[0m\u001b[0;34m\u001b[0m\u001b[0m\n",
      "\u001b[0;32m/opt/conda/lib/python3.7/site-packages/torch/nn/modules/module.py\u001b[0m in \u001b[0;36mcuda\u001b[0;34m(self, device)\u001b[0m\n\u001b[1;32m    303\u001b[0m             \u001b[0mModule\u001b[0m\u001b[0;34m:\u001b[0m \u001b[0mself\u001b[0m\u001b[0;34m\u001b[0m\u001b[0;34m\u001b[0m\u001b[0m\n\u001b[1;32m    304\u001b[0m         \"\"\"\n\u001b[0;32m--> 305\u001b[0;31m         \u001b[0;32mreturn\u001b[0m \u001b[0mself\u001b[0m\u001b[0;34m.\u001b[0m\u001b[0m_apply\u001b[0m\u001b[0;34m(\u001b[0m\u001b[0;32mlambda\u001b[0m \u001b[0mt\u001b[0m\u001b[0;34m:\u001b[0m \u001b[0mt\u001b[0m\u001b[0;34m.\u001b[0m\u001b[0mcuda\u001b[0m\u001b[0;34m(\u001b[0m\u001b[0mdevice\u001b[0m\u001b[0;34m)\u001b[0m\u001b[0;34m)\u001b[0m\u001b[0;34m\u001b[0m\u001b[0;34m\u001b[0m\u001b[0m\n\u001b[0m\u001b[1;32m    306\u001b[0m \u001b[0;34m\u001b[0m\u001b[0m\n\u001b[1;32m    307\u001b[0m     \u001b[0;32mdef\u001b[0m \u001b[0mcpu\u001b[0m\u001b[0;34m(\u001b[0m\u001b[0mself\u001b[0m\u001b[0;34m)\u001b[0m\u001b[0;34m:\u001b[0m\u001b[0;34m\u001b[0m\u001b[0;34m\u001b[0m\u001b[0m\n",
      "\u001b[0;32m/opt/conda/lib/python3.7/site-packages/torch/nn/modules/module.py\u001b[0m in \u001b[0;36m_apply\u001b[0;34m(self, fn)\u001b[0m\n\u001b[1;32m    200\u001b[0m     \u001b[0;32mdef\u001b[0m \u001b[0m_apply\u001b[0m\u001b[0;34m(\u001b[0m\u001b[0mself\u001b[0m\u001b[0;34m,\u001b[0m \u001b[0mfn\u001b[0m\u001b[0;34m)\u001b[0m\u001b[0;34m:\u001b[0m\u001b[0;34m\u001b[0m\u001b[0;34m\u001b[0m\u001b[0m\n\u001b[1;32m    201\u001b[0m         \u001b[0;32mfor\u001b[0m \u001b[0mmodule\u001b[0m \u001b[0;32min\u001b[0m \u001b[0mself\u001b[0m\u001b[0;34m.\u001b[0m\u001b[0mchildren\u001b[0m\u001b[0;34m(\u001b[0m\u001b[0;34m)\u001b[0m\u001b[0;34m:\u001b[0m\u001b[0;34m\u001b[0m\u001b[0;34m\u001b[0m\u001b[0m\n\u001b[0;32m--> 202\u001b[0;31m             \u001b[0mmodule\u001b[0m\u001b[0;34m.\u001b[0m\u001b[0m_apply\u001b[0m\u001b[0;34m(\u001b[0m\u001b[0mfn\u001b[0m\u001b[0;34m)\u001b[0m\u001b[0;34m\u001b[0m\u001b[0;34m\u001b[0m\u001b[0m\n\u001b[0m\u001b[1;32m    203\u001b[0m \u001b[0;34m\u001b[0m\u001b[0m\n\u001b[1;32m    204\u001b[0m         \u001b[0;32mdef\u001b[0m \u001b[0mcompute_should_use_set_data\u001b[0m\u001b[0;34m(\u001b[0m\u001b[0mtensor\u001b[0m\u001b[0;34m,\u001b[0m \u001b[0mtensor_applied\u001b[0m\u001b[0;34m)\u001b[0m\u001b[0;34m:\u001b[0m\u001b[0;34m\u001b[0m\u001b[0;34m\u001b[0m\u001b[0m\n",
      "\u001b[0;32m/opt/conda/lib/python3.7/site-packages/torch/nn/modules/module.py\u001b[0m in \u001b[0;36m_apply\u001b[0;34m(self, fn)\u001b[0m\n\u001b[1;32m    222\u001b[0m                 \u001b[0;31m# `with torch.no_grad():`\u001b[0m\u001b[0;34m\u001b[0m\u001b[0;34m\u001b[0m\u001b[0;34m\u001b[0m\u001b[0m\n\u001b[1;32m    223\u001b[0m                 \u001b[0;32mwith\u001b[0m \u001b[0mtorch\u001b[0m\u001b[0;34m.\u001b[0m\u001b[0mno_grad\u001b[0m\u001b[0;34m(\u001b[0m\u001b[0;34m)\u001b[0m\u001b[0;34m:\u001b[0m\u001b[0;34m\u001b[0m\u001b[0;34m\u001b[0m\u001b[0m\n\u001b[0;32m--> 224\u001b[0;31m                     \u001b[0mparam_applied\u001b[0m \u001b[0;34m=\u001b[0m \u001b[0mfn\u001b[0m\u001b[0;34m(\u001b[0m\u001b[0mparam\u001b[0m\u001b[0;34m)\u001b[0m\u001b[0;34m\u001b[0m\u001b[0;34m\u001b[0m\u001b[0m\n\u001b[0m\u001b[1;32m    225\u001b[0m                 \u001b[0mshould_use_set_data\u001b[0m \u001b[0;34m=\u001b[0m \u001b[0mcompute_should_use_set_data\u001b[0m\u001b[0;34m(\u001b[0m\u001b[0mparam\u001b[0m\u001b[0;34m,\u001b[0m \u001b[0mparam_applied\u001b[0m\u001b[0;34m)\u001b[0m\u001b[0;34m\u001b[0m\u001b[0;34m\u001b[0m\u001b[0m\n\u001b[1;32m    226\u001b[0m                 \u001b[0;32mif\u001b[0m \u001b[0mshould_use_set_data\u001b[0m\u001b[0;34m:\u001b[0m\u001b[0;34m\u001b[0m\u001b[0;34m\u001b[0m\u001b[0m\n",
      "\u001b[0;32m/opt/conda/lib/python3.7/site-packages/torch/nn/modules/module.py\u001b[0m in \u001b[0;36m<lambda>\u001b[0;34m(t)\u001b[0m\n\u001b[1;32m    303\u001b[0m             \u001b[0mModule\u001b[0m\u001b[0;34m:\u001b[0m \u001b[0mself\u001b[0m\u001b[0;34m\u001b[0m\u001b[0;34m\u001b[0m\u001b[0m\n\u001b[1;32m    304\u001b[0m         \"\"\"\n\u001b[0;32m--> 305\u001b[0;31m         \u001b[0;32mreturn\u001b[0m \u001b[0mself\u001b[0m\u001b[0;34m.\u001b[0m\u001b[0m_apply\u001b[0m\u001b[0;34m(\u001b[0m\u001b[0;32mlambda\u001b[0m \u001b[0mt\u001b[0m\u001b[0;34m:\u001b[0m \u001b[0mt\u001b[0m\u001b[0;34m.\u001b[0m\u001b[0mcuda\u001b[0m\u001b[0;34m(\u001b[0m\u001b[0mdevice\u001b[0m\u001b[0;34m)\u001b[0m\u001b[0;34m)\u001b[0m\u001b[0;34m\u001b[0m\u001b[0;34m\u001b[0m\u001b[0m\n\u001b[0m\u001b[1;32m    306\u001b[0m \u001b[0;34m\u001b[0m\u001b[0m\n\u001b[1;32m    307\u001b[0m     \u001b[0;32mdef\u001b[0m \u001b[0mcpu\u001b[0m\u001b[0;34m(\u001b[0m\u001b[0mself\u001b[0m\u001b[0;34m)\u001b[0m\u001b[0;34m:\u001b[0m\u001b[0;34m\u001b[0m\u001b[0;34m\u001b[0m\u001b[0m\n",
      "\u001b[0;32m/opt/conda/lib/python3.7/site-packages/torch/cuda/__init__.py\u001b[0m in \u001b[0;36m_lazy_init\u001b[0;34m()\u001b[0m\n\u001b[1;32m    190\u001b[0m             raise RuntimeError(\n\u001b[1;32m    191\u001b[0m                 \"Cannot re-initialize CUDA in forked subprocess. \" + msg)\n\u001b[0;32m--> 192\u001b[0;31m         \u001b[0m_check_driver\u001b[0m\u001b[0;34m(\u001b[0m\u001b[0;34m)\u001b[0m\u001b[0;34m\u001b[0m\u001b[0;34m\u001b[0m\u001b[0m\n\u001b[0m\u001b[1;32m    193\u001b[0m         \u001b[0mtorch\u001b[0m\u001b[0;34m.\u001b[0m\u001b[0m_C\u001b[0m\u001b[0;34m.\u001b[0m\u001b[0m_cuda_init\u001b[0m\u001b[0;34m(\u001b[0m\u001b[0;34m)\u001b[0m\u001b[0;34m\u001b[0m\u001b[0;34m\u001b[0m\u001b[0m\n\u001b[1;32m    194\u001b[0m         \u001b[0m_cudart\u001b[0m \u001b[0;34m=\u001b[0m \u001b[0m_load_cudart\u001b[0m\u001b[0;34m(\u001b[0m\u001b[0;34m)\u001b[0m\u001b[0;34m\u001b[0m\u001b[0;34m\u001b[0m\u001b[0m\n",
      "\u001b[0;32m/opt/conda/lib/python3.7/site-packages/torch/cuda/__init__.py\u001b[0m in \u001b[0;36m_check_driver\u001b[0;34m()\u001b[0m\n\u001b[1;32m    100\u001b[0m \u001b[0mFound\u001b[0m \u001b[0mno\u001b[0m \u001b[0mNVIDIA\u001b[0m \u001b[0mdriver\u001b[0m \u001b[0mon\u001b[0m \u001b[0myour\u001b[0m \u001b[0msystem\u001b[0m\u001b[0;34m.\u001b[0m \u001b[0mPlease\u001b[0m \u001b[0mcheck\u001b[0m \u001b[0mthat\u001b[0m \u001b[0myou\u001b[0m\u001b[0;34m\u001b[0m\u001b[0;34m\u001b[0m\u001b[0m\n\u001b[1;32m    101\u001b[0m \u001b[0mhave\u001b[0m \u001b[0man\u001b[0m \u001b[0mNVIDIA\u001b[0m \u001b[0mGPU\u001b[0m \u001b[0;32mand\u001b[0m \u001b[0minstalled\u001b[0m \u001b[0ma\u001b[0m \u001b[0mdriver\u001b[0m \u001b[0;32mfrom\u001b[0m\u001b[0;34m\u001b[0m\u001b[0;34m\u001b[0m\u001b[0m\n\u001b[0;32m--> 102\u001b[0;31m http://www.nvidia.com/Download/index.aspx\"\"\")\n\u001b[0m\u001b[1;32m    103\u001b[0m         \u001b[0;32melse\u001b[0m\u001b[0;34m:\u001b[0m\u001b[0;34m\u001b[0m\u001b[0;34m\u001b[0m\u001b[0m\n\u001b[1;32m    104\u001b[0m             \u001b[0;31m# TODO: directly link to the alternative bin that needs install\u001b[0m\u001b[0;34m\u001b[0m\u001b[0;34m\u001b[0m\u001b[0;34m\u001b[0m\u001b[0m\n",
      "\u001b[0;31mAssertionError\u001b[0m: \nFound no NVIDIA driver on your system. Please check that you\nhave an NVIDIA GPU and installed a driver from\nhttp://www.nvidia.com/Download/index.aspx"
     ]
    }
   ],
   "source": [
    "num_ftrs = 1000\n",
    "\n",
    "classes = ('plane', 'car', 'bird', 'cat',\n",
    "        'deer', 'dog', 'frog', 'horse', 'ship', 'truck')\n",
    "\n",
    "net.classifier = nn.Linear(num_ftrs, len(classes))\n",
    "net.cuda()\n",
    "print()"
   ]
  },
  {
   "cell_type": "code",
   "execution_count": 7,
   "metadata": {},
   "outputs": [
    {
     "name": "stdout",
     "output_type": "stream",
     "text": [
      "/bin/sh: 1: nvidia-smi: not found\n"
     ]
    }
   ],
   "source": [
    "!nvidia-smi"
   ]
  },
  {
   "cell_type": "markdown",
   "metadata": {},
   "source": [
    "mobilenet from 0:\n",
    "- Evo + Cross  - DONE\n",
    "- Evo Only - DONE\n",
    "- Standard - DONE\n",
    "\n",
    "resnet from 0:\n",
    "- Evo + Cross - DONE\n",
    "- Evo Only - DONE\n",
    "- Standard - DONE\n",
    "\n",
    "mobilenet pretrained:\n",
    "- Evo + Cross  - DONE\n",
    "- Evo Only   - DONE\n",
    "- Standard - DONE\n",
    "\n",
    "resnet pretrained:\n",
    "- Evo + Cross  - DONE\n",
    "- Evo Only - DONE\n",
    "- Standard - processing"
   ]
  },
  {
   "cell_type": "code",
   "execution_count": 66,
   "metadata": {},
   "outputs": [],
   "source": [
    "experiment_note = \"\"\" \n",
    "NET: resnet\n",
    "pretrained: True\n",
    "Training mode: No Evo and CrossN\n",
    "Optimizer SGD\n",
    "lr = 0.001 \n",
    "momentum = 0.9\n",
    "epochs = 100\n",
    "Params: Default\"\"\"\n",
    "\n",
    "logger = Logger('train', experiment_note)"
   ]
  },
  {
   "cell_type": "code",
   "execution_count": 67,
   "metadata": {},
   "outputs": [
    {
     "data": {
      "text/plain": [
       "'./experiments/2019-12-15/train_12:47'"
      ]
     },
     "execution_count": 67,
     "metadata": {},
     "output_type": "execute_result"
    }
   ],
   "source": [
    "logger.path"
   ]
  },
  {
   "cell_type": "code",
   "execution_count": 7,
   "metadata": {},
   "outputs": [],
   "source": [
    "# post_note = \"Test After Experiment info\"\n",
    "# logger.add_post_result(post_note)"
   ]
  },
  {
   "cell_type": "code",
   "execution_count": 68,
   "metadata": {},
   "outputs": [],
   "source": [
    "lr = 0.001\n",
    "\n",
    "optimizer = torch.optim.SGD(net.parameters(), lr=lr, momentum=0.9)\n",
    "criterion = nn.CrossEntropyLoss()\n",
    "evo_optim = CrossN()\n",
    "\n",
    "def validation(net, dataloader):\n",
    "    correct = 0\n",
    "    total = 0\n",
    "    with torch.no_grad():\n",
    "        for data in dataloader:\n",
    "            images, labels = data\n",
    "            images = images.cuda()\n",
    "            labels = labels.cuda()\n",
    "            outputs = net(images)\n",
    "            _, predicted = torch.max(outputs.data, 1)\n",
    "            total += labels.size(0)\n",
    "            correct += (predicted == labels).sum().item()\n",
    "    return float(100 * correct / total)"
   ]
  },
  {
   "cell_type": "code",
   "execution_count": 69,
   "metadata": {},
   "outputs": [],
   "source": [
    "solver = Solver(\n",
    "    net,\n",
    "    optimizer,\n",
    "    logger,\n",
    "    criterion,\n",
    "    validation,\n",
    "    evo_optim, \n",
    "    trainloader,\n",
    "    testloader,\n",
    "    testloader,  \n",
    "    epochs=100,\n",
    "    evo_step=100,\n",
    "    child_count=20,\n",
    "    best_child_count=3,\n",
    "    mode='normal',\n",
    "    debug=False,\n",
    "    lr=lr)"
   ]
  },
  {
   "cell_type": "code",
   "execution_count": 70,
   "metadata": {},
   "outputs": [
    {
     "name": "stdout",
     "output_type": "stream",
     "text": [
      "Start training\n",
      "Epoch: 0\n"
     ]
    },
    {
     "name": "stderr",
     "output_type": "stream",
     "text": [
      "100%|██████████| 19/19 [01:48<00:00,  5.73s/it]"
     ]
    },
    {
     "name": "stdout",
     "output_type": "stream",
     "text": [
      "best child - 0.0\n",
      "Epoch: 1\n"
     ]
    },
    {
     "name": "stderr",
     "output_type": "stream",
     "text": [
      "\n"
     ]
    },
    {
     "name": "stdout",
     "output_type": "stream",
     "text": [
      "[2] loss: 1.042 validation score: 70.55 %\n",
      "Epoch: 2\n",
      "[3] loss: 0.421 validation score: 74.79 %\n",
      "Epoch: 3\n",
      "[4] loss: 0.122 validation score: 75.34 %\n",
      "Epoch: 4\n",
      "[5] loss: 0.020 validation score: 75.04 %\n",
      "Epoch: 5\n",
      "[6] loss: 0.028 validation score: 75.12 %\n",
      "Epoch: 6\n",
      "[7] loss: 0.007 validation score: 75.63 %\n",
      "Epoch: 7\n",
      "[8] loss: 0.002 validation score: 75.94 %\n",
      "Epoch: 8\n",
      "[9] loss: 0.001 validation score: 76.11 %\n",
      "Epoch: 9\n",
      "[10] loss: 0.001 validation score: 76.43 %\n",
      "Epoch: 10\n",
      "[11] loss: 0.000 validation score: 76.25 %\n",
      "Epoch: 11\n",
      "[12] loss: 0.000 validation score: 76.43 %\n",
      "Epoch: 12\n",
      "[13] loss: 0.000 validation score: 76.40 %\n",
      "Epoch: 13\n",
      "[14] loss: 0.001 validation score: 76.36 %\n",
      "Epoch: 14\n",
      "[15] loss: 0.000 validation score: 76.32 %\n",
      "Epoch: 15\n",
      "[16] loss: 0.000 validation score: 76.21 %\n",
      "Epoch: 16\n",
      "[17] loss: 0.000 validation score: 76.20 %\n",
      "Epoch: 17\n",
      "[18] loss: 0.000 validation score: 76.19 %\n",
      "Epoch: 18\n",
      "[19] loss: 0.000 validation score: 76.23 %\n",
      "Epoch: 19\n",
      "[20] loss: 0.000 validation score: 76.22 %\n",
      "Epoch: 20\n",
      "[21] loss: 0.000 validation score: 76.19 %\n",
      "Epoch: 21\n",
      "[22] loss: 0.000 validation score: 76.20 %\n",
      "Epoch: 22\n",
      "[23] loss: 0.000 validation score: 76.22 %\n",
      "Epoch: 23\n",
      "[24] loss: 0.000 validation score: 76.25 %\n",
      "Epoch: 24\n",
      "[25] loss: 0.000 validation score: 76.27 %\n",
      "Epoch: 25\n",
      "[26] loss: 0.000 validation score: 76.28 %\n",
      "Epoch: 26\n",
      "[27] loss: 0.000 validation score: 76.27 %\n",
      "Epoch: 27\n",
      "[28] loss: 0.000 validation score: 76.27 %\n",
      "Epoch: 28\n",
      "[29] loss: 0.000 validation score: 76.27 %\n",
      "Epoch: 29\n",
      "[30] loss: 0.000 validation score: 76.26 %\n",
      "Epoch: 30\n",
      "[31] loss: 0.000 validation score: 76.27 %\n",
      "Epoch: 31\n",
      "[32] loss: 0.000 validation score: 76.29 %\n",
      "Epoch: 32\n",
      "[33] loss: 0.000 validation score: 76.31 %\n",
      "Epoch: 33\n",
      "[34] loss: 0.000 validation score: 76.29 %\n",
      "Epoch: 34\n",
      "[35] loss: 0.000 validation score: 76.30 %\n",
      "Epoch: 35\n",
      "[36] loss: 0.000 validation score: 76.30 %\n",
      "Epoch: 36\n",
      "[37] loss: 0.000 validation score: 76.32 %\n",
      "Epoch: 37\n",
      "[38] loss: 0.000 validation score: 76.30 %\n",
      "Epoch: 38\n",
      "[39] loss: 0.000 validation score: 76.32 %\n",
      "Epoch: 39\n",
      "[40] loss: 0.000 validation score: 76.34 %\n",
      "Epoch: 40\n",
      "[41] loss: 0.000 validation score: 76.34 %\n",
      "Epoch: 41\n",
      "[42] loss: 0.000 validation score: 76.33 %\n",
      "Epoch: 42\n",
      "[43] loss: 0.000 validation score: 76.33 %\n",
      "Epoch: 43\n",
      "[44] loss: 0.000 validation score: 76.35 %\n",
      "Epoch: 44\n",
      "[45] loss: 0.000 validation score: 76.35 %\n",
      "Epoch: 45\n",
      "[46] loss: 0.000 validation score: 76.34 %\n",
      "Epoch: 46\n",
      "[47] loss: 0.000 validation score: 76.34 %\n",
      "Epoch: 47\n",
      "[48] loss: 0.000 validation score: 76.33 %\n",
      "Epoch: 48\n",
      "[49] loss: 0.000 validation score: 76.34 %\n",
      "Epoch: 49\n",
      "[50] loss: 0.000 validation score: 76.34 %\n",
      "Epoch: 50\n",
      "[51] loss: 0.000 validation score: 76.33 %\n",
      "Epoch: 51\n",
      "[52] loss: 0.000 validation score: 76.33 %\n",
      "Epoch: 52\n",
      "[53] loss: 0.000 validation score: 76.33 %\n",
      "Epoch: 53\n",
      "[54] loss: 0.000 validation score: 76.33 %\n",
      "Epoch: 54\n",
      "[55] loss: 0.000 validation score: 76.35 %\n",
      "Epoch: 55\n",
      "[56] loss: 0.000 validation score: 76.35 %\n",
      "Epoch: 56\n",
      "[57] loss: 0.000 validation score: 76.36 %\n",
      "Epoch: 57\n",
      "[58] loss: 0.000 validation score: 76.39 %\n",
      "Epoch: 58\n",
      "[59] loss: 0.000 validation score: 76.40 %\n",
      "Epoch: 59\n",
      "[60] loss: 0.000 validation score: 76.41 %\n",
      "Epoch: 60\n",
      "[61] loss: 0.000 validation score: 76.41 %\n",
      "Epoch: 61\n",
      "[62] loss: 0.000 validation score: 76.40 %\n",
      "Epoch: 62\n",
      "[63] loss: 0.000 validation score: 76.40 %\n",
      "Epoch: 63\n",
      "[64] loss: 0.000 validation score: 76.36 %\n",
      "Epoch: 64\n",
      "[65] loss: 0.000 validation score: 76.35 %\n",
      "Epoch: 65\n",
      "[66] loss: 0.000 validation score: 76.35 %\n",
      "Epoch: 66\n",
      "[67] loss: 0.000 validation score: 76.35 %\n",
      "Epoch: 67\n",
      "[68] loss: 0.000 validation score: 76.36 %\n",
      "Epoch: 68\n",
      "[69] loss: 0.000 validation score: 76.34 %\n",
      "Epoch: 69\n",
      "[70] loss: 0.000 validation score: 76.33 %\n",
      "Epoch: 70\n",
      "[71] loss: 0.000 validation score: 76.33 %\n",
      "Epoch: 71\n",
      "[72] loss: 0.000 validation score: 76.33 %\n",
      "Epoch: 72\n",
      "[73] loss: 0.000 validation score: 76.33 %\n",
      "Epoch: 73\n",
      "[74] loss: 0.000 validation score: 76.33 %\n",
      "Epoch: 74\n",
      "[75] loss: 0.000 validation score: 76.33 %\n",
      "Epoch: 75\n",
      "[76] loss: 0.000 validation score: 76.33 %\n",
      "Epoch: 76\n",
      "[77] loss: 0.000 validation score: 76.32 %\n",
      "Epoch: 77\n",
      "[78] loss: 0.000 validation score: 76.33 %\n",
      "Epoch: 78\n",
      "[79] loss: 0.000 validation score: 76.34 %\n",
      "Epoch: 79\n",
      "[80] loss: 0.000 validation score: 76.34 %\n",
      "Epoch: 80\n",
      "[81] loss: 0.000 validation score: 76.34 %\n",
      "Epoch: 81\n",
      "[82] loss: 0.000 validation score: 76.34 %\n",
      "Epoch: 82\n",
      "[83] loss: 0.000 validation score: 76.34 %\n",
      "Epoch: 83\n",
      "[84] loss: 0.000 validation score: 76.35 %\n",
      "Epoch: 84\n",
      "[85] loss: 0.000 validation score: 76.36 %\n",
      "Epoch: 85\n",
      "[86] loss: 0.000 validation score: 76.36 %\n",
      "Epoch: 86\n",
      "[87] loss: 0.000 validation score: 76.36 %\n",
      "Epoch: 87\n",
      "[88] loss: 0.000 validation score: 76.35 %\n",
      "Epoch: 88\n",
      "[89] loss: 0.000 validation score: 76.35 %\n",
      "Epoch: 89\n",
      "[90] loss: 0.000 validation score: 76.36 %\n",
      "Epoch: 90\n",
      "[91] loss: 0.000 validation score: 76.36 %\n",
      "Epoch: 91\n",
      "[93] loss: 0.000 validation score: 76.36 %\n",
      "Epoch: 93\n",
      "[94] loss: 0.000 validation score: 76.36 %\n",
      "Epoch: 94\n",
      "[95] loss: 0.000 validation score: 76.36 %\n",
      "Epoch: 95\n",
      "[96] loss: 0.000 validation score: 76.36 %\n",
      "Epoch: 96\n",
      "[97] loss: 0.000 validation score: 76.36 %\n",
      "Epoch: 97\n",
      "[98] loss: 0.000 validation score: 76.35 %\n",
      "Epoch: 98\n",
      "[99] loss: 0.000 validation score: 76.35 %\n",
      "Epoch: 99\n",
      "[100] loss: 0.000 validation score: 76.35 %\n",
      "Training is finished\n",
      "validation score: 77.09 %\n"
     ]
    }
   ],
   "source": [
    "logger.add_post_result(f'start: {datetime.now()}')\n",
    "solver.start()\n",
    "logger.add_post_result(f'finish: {datetime.now()}')\n",
    "logger.close()"
   ]
  },
  {
   "cell_type": "code",
   "execution_count": 25,
   "metadata": {},
   "outputs": [],
   "source": [
    "logger.close()"
   ]
  }
 ],
 "metadata": {
  "kernelspec": {
   "display_name": "Python 3",
   "language": "python",
   "name": "python3"
  },
  "language_info": {
   "codemirror_mode": {
    "name": "ipython",
    "version": 3
   },
   "file_extension": ".py",
   "mimetype": "text/x-python",
   "name": "python",
   "nbconvert_exporter": "python",
   "pygments_lexer": "ipython3",
   "version": "3.7.3"
  }
 },
 "nbformat": 4,
 "nbformat_minor": 4
}
