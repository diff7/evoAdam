{
 "cells": [
  {
   "cell_type": "code",
   "execution_count": 1,
   "metadata": {},
   "outputs": [
    {
     "data": {
      "text/plain": [
       "<torch._C.Generator at 0x7f0514f54f10>"
      ]
     },
     "execution_count": 1,
     "metadata": {},
     "output_type": "execute_result"
    }
   ],
   "source": [
    "import sys\n",
    "import copy\n",
    "from datetime import datetime\n",
    "\n",
    "import torch\n",
    "import torchvision\n",
    "import torch.nn as nn\n",
    "import torchvision.transforms as transforms\n",
    "from torch.optim.optimizer import Optimizer, required\n",
    "\n",
    "from logger import Logger\n",
    "\n",
    "from solver import Solver\n",
    "from crossngover import CrossN\n",
    "\n",
    "torch.manual_seed(0)"
   ]
  },
  {
   "cell_type": "code",
   "execution_count": 2,
   "metadata": {},
   "outputs": [
    {
     "name": "stdout",
     "output_type": "stream",
     "text": [
      "Files already downloaded and verified\n",
      "Files already downloaded and verified\n"
     ]
    }
   ],
   "source": [
    "transform = transforms.Compose(\n",
    "    [transforms.ToTensor(),\n",
    "     transforms.Normalize([0.485, 0.456, 0.406], [0.229, 0.224, 0.225])])\n",
    "\n",
    "trainset = torchvision.datasets.CIFAR10(root='./data', train=True,\n",
    "                                        download=True, transform=transform)\n",
    "trainloader = torch.utils.data.DataLoader(trainset, batch_size=256,\n",
    "                                          shuffle=False, num_workers=2)\n",
    "\n",
    "testset = torchvision.datasets.CIFAR10(root='./data', train=False,\n",
    "                                       download=True, transform=transform)\n",
    "testloader = torch.utils.data.DataLoader(testset, batch_size=256,\n",
    "                                         shuffle=False, num_workers=2)"
   ]
  },
  {
   "cell_type": "code",
   "execution_count": 3,
   "metadata": {},
   "outputs": [],
   "source": [
    "def train_models(params, net, device=0):\n",
    "    \n",
    "    mode = params['mode']\n",
    "    evo_step = int(params['evo_step'])\n",
    "    \n",
    "    experiment_note = ''\n",
    "    path = ''\n",
    "    for key in params:\n",
    "        experiment_note += key +'_'+ params[key]+'\\n'\n",
    "        path +=  '_'+ params[key]\n",
    "    \n",
    "\n",
    "    logger = Logger(path, experiment_note)\n",
    "    \n",
    "    print(logger.path)\n",
    "    print(experiment_note)\n",
    "\n",
    "    lr = 0.001\n",
    "\n",
    "    optimizer = torch.optim.SGD(net.parameters(), lr=lr, momentum=0.9, weight_decay=0.0001)\n",
    "    criterion = nn.CrossEntropyLoss()\n",
    "    evo_optim = CrossN()\n",
    "\n",
    "    def validation(net, dataloader, device=0):\n",
    "        correct = 0\n",
    "        total = 0\n",
    "        with torch.no_grad():\n",
    "            for data in dataloader:\n",
    "                images, labels = data\n",
    "                images = images.cuda(device)\n",
    "                labels = labels.cuda(device)\n",
    "                outputs = net(images)\n",
    "                _, predicted = torch.max(outputs.data, 1)\n",
    "                total += labels.size(0)\n",
    "                correct += (predicted == labels).sum().item()\n",
    "        return 100.0 * correct / total\n",
    "\n",
    "    \n",
    "    solver = Solver(\n",
    "        net,\n",
    "        optimizer,\n",
    "        logger,\n",
    "        criterion,\n",
    "        validation,\n",
    "        evo_optim, \n",
    "        trainloader,\n",
    "        testloader,\n",
    "        testloader,  \n",
    "        epochs=2,\n",
    "        evo_step=evo_step,\n",
    "        child_count=20,\n",
    "        best_child_count=3,\n",
    "        mode=mode,\n",
    "        debug=True,\n",
    "        lr=lr,\n",
    "        device=device)\n",
    "\n",
    "    logger.add_post_result(f'start: {datetime.now()}')\n",
    "    solver.start()\n",
    "    logger.add_post_result(f'finish: {datetime.now()}')\n",
    "    torch.save(net.state_dict(), logger.path + '/model_last.chk')\n",
    "    logger.close()\n",
    "    \n",
    "    \n",
    "\n",
    "def train_three_types(model, TF, name):\n",
    "    modes = [ 'gradient', 'evo_cross', 'evo_only']\n",
    "    \n",
    "    evo_step = 10\n",
    "\n",
    "    for mode in modes: \n",
    "        orig_stdout = sys.stdout\n",
    "        f = open(f'outputs/{name}_{mode}.txt', 'w')\n",
    "        sys.stdout = f\n",
    "\n",
    "        \n",
    "        params = {'net_name':name,\n",
    "             'preptrained':TF,\n",
    "             'mode':mode,\n",
    "             'evo_step':str(evo_step)}\n",
    "        temp_model = copy.deepcopy(model)\n",
    "        train_models(params, temp_model)\n",
    "        sys.stdout = orig_stdout\n",
    "        f.close()\n",
    "        torch.cuda.empty_cache()\n",
    "    print('Finished')"
   ]
  },
  {
   "cell_type": "code",
   "execution_count": 4,
   "metadata": {},
   "outputs": [
    {
     "name": "stdout",
     "output_type": "stream",
     "text": [
      "\n"
     ]
    }
   ],
   "source": [
    "net = torchvision.models.resnet18(pretrained=False)\n",
    "\n",
    "num_ftrs = net.fc.in_features\n",
    "\n",
    "classes = ('plane', 'car', 'bird', 'cat',\n",
    "        'deer', 'dog', 'frog', 'horse', 'ship', 'truck')\n",
    "\n",
    "net.classifier = nn.Linear(num_ftrs, len(classes))\n",
    "net.cuda()\n",
    "print()"
   ]
  },
  {
   "cell_type": "code",
   "execution_count": 5,
   "metadata": {},
   "outputs": [
    {
     "name": "stdout",
     "output_type": "stream",
     "text": [
      "Finished\n"
     ]
    }
   ],
   "source": [
    "train_three_types(net, 'F', 'resnet18_256_test_lr')"
   ]
  },
  {
   "cell_type": "markdown",
   "metadata": {},
   "source": [
    "mobilenet from F:\n",
    "- Evo + Cross - \n",
    "- Evo Only - \n",
    "- Standard - \n",
    "\n",
    "resnet from F:\n",
    "- Evo + Cross  - \n",
    "- Evo Only - \n",
    "- Standard - \n",
    "\n",
    "mobilenet pretrained T:\n",
    "- Evo + Cross - \n",
    "- Evo Only  - \n",
    "- Standard - \n",
    "\n",
    "resnet pretrained T:\n",
    "- Evo + Cross  \n",
    "- Evo Only \n",
    "- Standard "
   ]
  }
 ],
 "metadata": {
  "kernelspec": {
   "display_name": "Python 3",
   "language": "python",
   "name": "python3"
  },
  "language_info": {
   "codemirror_mode": {
    "name": "ipython",
    "version": 3
   },
   "file_extension": ".py",
   "mimetype": "text/x-python",
   "name": "python",
   "nbconvert_exporter": "python",
   "pygments_lexer": "ipython3",
   "version": "3.7.3"
  }
 },
 "nbformat": 4,
 "nbformat_minor": 4
}
