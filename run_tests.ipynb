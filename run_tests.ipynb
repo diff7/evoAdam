{
 "cells": [
  {
   "cell_type": "code",
   "execution_count": 1,
   "metadata": {},
   "outputs": [
    {
     "name": "stdout",
     "output_type": "stream",
     "text": [
      "Files already downloaded and verified\n",
      "Files already downloaded and verified\n"
     ]
    }
   ],
   "source": [
    "from run_test import init_model, train_main"
   ]
  },
  {
   "cell_type": "code",
   "execution_count": 2,
   "metadata": {},
   "outputs": [],
   "source": [
    "pretrained = False\n",
    "Res18 = init_model(pretrained=pretrained)"
   ]
  },
  {
   "cell_type": "code",
   "execution_count": 3,
   "metadata": {},
   "outputs": [],
   "source": [
    "params = {'net_name':'Res18',\n",
    "             'preptrained':pretrained,\n",
    "             'child_count':40,\n",
    "             'evo_step':'2',\n",
    "             'random_seed':10,\n",
    "             'lr':0.001}"
   ]
  },
  {
   "cell_type": "code",
   "execution_count": null,
   "metadata": {},
   "outputs": [
    {
     "name": "stdout",
     "output_type": "stream",
     "text": [
      "TRAINING MODE EVO_ONLY\n",
      "./experiments/2020-06-30/_net_name_Res18__preptrained_False__child_count_40__evo_step_2__random_seed_10__lr_0.001__mode_evo_only__11:32\n",
      "net_name_Res18\n",
      "preptrained_False\n",
      "child_count_40\n",
      "evo_step_2\n",
      "random_seed_10\n",
      "lr_0.001\n",
      "mode_evo_only\n",
      "\n",
      "Start training\n",
      "started score - 0.0\n",
      "Epoch: 1\t Iterations: 0\n"
     ]
    },
    {
     "name": "stderr",
     "output_type": "stream",
     "text": [
      "196it [00:05, 33.69it/s]\n"
     ]
    },
    {
     "name": "stdout",
     "output_type": "stream",
     "text": [
      "[2] loss: 2.591 validation score: 29.78 %\n",
      "[2] loss: 2.591 train score: 30.63 %\n",
      "Epoch: 2\t Iterations: 196\n",
      "BASE SCORE VAL: acc: 30.31, loss: 0.009491264820098877\n",
      "BASE SCORE TRAIN: acc: 30.6, loss: 0.009259316138923168\n",
      "TRAIN: ch_acc_score: 30.604 ch_loss: 0.009260065853595734 best_score: 30.6\n",
      "TRAIN: ch_acc_score: 30.638 ch_loss: 0.009255378507077694 best_score: 30.6\n",
      "TRAIN: ch_acc_score: 30.698 ch_loss: 0.009255499579012394 best_score: 30.638\n",
      "TRAIN: ch_acc_score: 30.628 ch_loss: 0.00925520807504654 best_score: 30.638\n",
      "TRAIN: ch_acc_score: 30.666 ch_loss: 0.009254842065274715 best_score: 30.628\n",
      "TRAIN: ch_acc_score: 30.668 ch_loss: 0.00925455056130886 best_score: 30.666\n",
      "TRAIN: ch_acc_score: 30.66 ch_loss: 0.009254862554371357 best_score: 30.668\n",
      "TRAIN: ch_acc_score: 30.642 ch_loss: 0.009254840202629566 best_score: 30.668\n",
      "TRAIN: ch_acc_score: 30.636 ch_loss: 0.009254908189177513 best_score: 30.668\n",
      "TRAIN: ch_acc_score: 30.726 ch_loss: 0.00925484485924244 best_score: 30.668\n",
      "TRAIN: ch_acc_score: 30.644 ch_loss: 0.009255140088498592 best_score: 30.668\n",
      "TRAIN: ch_acc_score: 30.654 ch_loss: 0.00925541389733553 best_score: 30.668\n",
      "TRAIN: ch_acc_score: 30.644 ch_loss: 0.00925497803837061 best_score: 30.668\n",
      "TRAIN: ch_acc_score: 30.678 ch_loss: 0.00925469771027565 best_score: 30.668\n",
      "TRAIN: ch_acc_score: 30.648 ch_loss: 0.009255019016563892 best_score: 30.668\n",
      "TRAIN: ch_acc_score: 30.662 ch_loss: 0.009255144745111465 best_score: 30.668\n",
      "TRAIN: ch_acc_score: 30.67 ch_loss: 0.009255392476916313 best_score: 30.668\n",
      "TRAIN: ch_acc_score: 30.644 ch_loss: 0.009255323559045792 best_score: 30.668\n",
      "TRAIN: ch_acc_score: 30.656 ch_loss: 0.009254341945052147 best_score: 30.668\n",
      "TRAIN: ch_acc_score: 30.662 ch_loss: 0.009254813194274902 best_score: 30.656\n",
      "TRAIN: ch_acc_score: 30.664 ch_loss: 0.009255452081561089 best_score: 30.656\n",
      "TRAIN: ch_acc_score: 30.646 ch_loss: 0.009254046715795994 best_score: 30.656\n",
      "TRAIN: ch_acc_score: 30.672 ch_loss: 0.009254478849470615 best_score: 30.646\n",
      "TRAIN: ch_acc_score: 30.704 ch_loss: 0.00925413891673088 best_score: 30.646\n",
      "TRAIN: ch_acc_score: 30.678 ch_loss: 0.00925473589450121 best_score: 30.646\n",
      "TRAIN: ch_acc_score: 30.678 ch_loss: 0.0092536062002182 best_score: 30.646\n",
      "TRAIN: ch_acc_score: 30.662 ch_loss: 0.009254025295376778 best_score: 30.678\n",
      "TRAIN: ch_acc_score: 30.656 ch_loss: 0.00925473589450121 best_score: 30.678\n",
      "TRAIN: ch_acc_score: 30.68 ch_loss: 0.009255260229110718 best_score: 30.678\n",
      "TRAIN: ch_acc_score: 30.662 ch_loss: 0.009255844168365002 best_score: 30.678\n",
      "TRAIN: ch_acc_score: 30.688 ch_loss: 0.009254182688891888 best_score: 30.678\n",
      "TRAIN: ch_acc_score: 30.66 ch_loss: 0.009254557080566883 best_score: 30.678\n",
      "TRAIN: ch_acc_score: 30.676 ch_loss: 0.00925594475120306 best_score: 30.678\n",
      "TRAIN: ch_acc_score: 30.668 ch_loss: 0.009255064651370049 best_score: 30.678\n",
      "TRAIN: ch_acc_score: 30.64 ch_loss: 0.009255519136786461 best_score: 30.678\n",
      "TRAIN: ch_acc_score: 30.62 ch_loss: 0.009254887700080872 best_score: 30.678\n",
      "TRAIN: ch_acc_score: 30.67 ch_loss: 0.009255191311240196 best_score: 30.678\n",
      "TRAIN: ch_acc_score: 30.636 ch_loss: 0.009254750795662403 best_score: 30.678\n",
      "TRAIN: ch_acc_score: 30.658 ch_loss: 0.009254991076886654 best_score: 30.678\n",
      "BEST TRAIN: ch_accuracy_score 30.678 ch_loss tensor(0.0093, device='cuda:0')\n",
      "BEST VAL: ch_accuracy_score 29.78 ch_loss tensor(0.0095, device='cuda:0')\n",
      "best child - 0.009496813639998436\n",
      "Epoch: 3\t Iterations: 235\n"
     ]
    },
    {
     "name": "stderr",
     "output_type": "stream",
     "text": [
      "196it [00:05, 33.46it/s]\n"
     ]
    },
    {
     "name": "stdout",
     "output_type": "stream",
     "text": [
      "[4] loss: 1.945 validation score: 36.14 %\n",
      "[4] loss: 1.945 train score: 37.32 %\n",
      "Epoch: 4\t Iterations: 431\n"
     ]
    }
   ],
   "source": [
    "train_main(Res18, params, to_stdout=False)"
   ]
  }
 ],
 "metadata": {
  "kernelspec": {
   "display_name": "Python 3",
   "language": "python",
   "name": "python3"
  },
  "language_info": {
   "codemirror_mode": {
    "name": "ipython",
    "version": 3
   },
   "file_extension": ".py",
   "mimetype": "text/x-python",
   "name": "python",
   "nbconvert_exporter": "python",
   "pygments_lexer": "ipython3",
   "version": "3.6.9"
  }
 },
 "nbformat": 4,
 "nbformat_minor": 4
}
