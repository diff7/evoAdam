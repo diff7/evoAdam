{
 "cells": [
  {
   "cell_type": "code",
   "execution_count": 1,
   "metadata": {},
   "outputs": [
    {
     "name": "stdout",
     "output_type": "stream",
     "text": [
      "Files already downloaded and verified\n",
      "Files already downloaded and verified\n"
     ]
    }
   ],
   "source": [
    "from run_test import init_model, train_main"
   ]
  },
  {
   "cell_type": "code",
   "execution_count": 2,
   "metadata": {},
   "outputs": [],
   "source": [
    "pretrained = False\n",
    "Res18 = init_model(pretrained=pretrained)"
   ]
  },
  {
   "cell_type": "code",
   "execution_count": 3,
   "metadata": {},
   "outputs": [],
   "source": [
    "params = {'net_name':'Res18',\n",
    "             'preptrained':pretrained,\n",
    "             'child_count':30,\n",
    "             'evo_step':'5',\n",
    "             'random_seed':10,\n",
    "             'lr':0.001}"
   ]
  },
  {
   "cell_type": "code",
   "execution_count": null,
   "metadata": {},
   "outputs": [
    {
     "name": "stdout",
     "output_type": "stream",
     "text": [
      "TRAINING MODE EVO_ONLY\n",
      "./experiments/2020-06-30/_net_name_Res18__preptrained_False__child_count_30__evo_step_5__random_seed_10__lr_0.001__mode_evo_only__11:38\n",
      "net_name_Res18\n",
      "preptrained_False\n",
      "child_count_30\n",
      "evo_step_5\n",
      "random_seed_10\n",
      "lr_0.001\n",
      "mode_evo_only\n",
      "\n",
      "Start training\n",
      "started score - 0.0\n",
      "Epoch: 1\t Iterations: 0\n"
     ]
    },
    {
     "name": "stderr",
     "output_type": "stream",
     "text": [
      "146it [00:04, 33.80it/s]"
     ]
    }
   ],
   "source": [
    "train_main(Res18, params, to_stdout=False)"
   ]
  }
 ],
 "metadata": {
  "kernelspec": {
   "display_name": "Python 3",
   "language": "python",
   "name": "python3"
  },
  "language_info": {
   "codemirror_mode": {
    "name": "ipython",
    "version": 3
   },
   "file_extension": ".py",
   "mimetype": "text/x-python",
   "name": "python",
   "nbconvert_exporter": "python",
   "pygments_lexer": "ipython3",
   "version": "3.6.9"
  }
 },
 "nbformat": 4,
 "nbformat_minor": 4
}
