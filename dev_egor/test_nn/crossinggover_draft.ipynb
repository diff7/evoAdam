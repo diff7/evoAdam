{
 "cells": [
  {
   "cell_type": "code",
   "execution_count": 35,
   "metadata": {},
   "outputs": [],
   "source": [
    "\n",
    "# DEFINE SOME COOL NET, NOT EASY TO WORK WITH\n",
    "\n",
    "import torch\n",
    "from torchvision import transforms\n",
    "from torch.utils import data\n",
    "from torchvision.utils import save_image\n",
    "\n",
    "import opt\n",
    "from net import PConvUNet\n",
    "from loss import InpaintingLoss\n",
    "from util.io import load_ckpt\n",
    "from util.image import unnormalize\n",
    "from net import VGG16FeatureExtractor\n",
    "from evaluation import evaluate\n",
    "from my_dataset import MyDataset\n",
    "\n",
    "\n",
    "root='./my_train'\n",
    "mask_root='./masks'\n",
    "save_dir='./snapshots/'\n",
    "image_size=256\n",
    "wieghts = './snapshots/default/ckpt/1010100.pth'\n",
    "lr = 0.001\n",
    "\n",
    "device = torch.device('cuda')\n",
    "\n",
    "size = ( image_size,  image_size)\n",
    "img_tf = transforms.Compose(\n",
    "    [transforms.Resize(size=size), transforms.ToTensor(),\n",
    "     transforms.Normalize(mean=opt.MEAN, std=opt.STD)])\n",
    "mask_tf = transforms.Compose(\n",
    "    [transforms.Resize(size=size), transforms.ToTensor()])\n",
    "\n",
    "dataset_val = MyDataset(root,  mask_root, img_tf, mask_tf, 'val')\n",
    "\n",
    "model = PConvUNet().to(device)\n",
    "load_ckpt(wieghts, [('model', model)])\n",
    "\n",
    "model.train()\n",
    "\n",
    "iterator_train = iter(data.DataLoader(\n",
    "    dataset_val, batch_size= 1,\n",
    "    num_workers=2, \n",
    "    shuffle=True))\n",
    "\n",
    "optimizer = torch.optim.Adam(\n",
    "    filter(lambda p: p.requires_grad, model.parameters()), lr=lr)\n",
    "criterion = InpaintingLoss(VGG16FeatureExtractor()).to(device)"
   ]
  },
  {
   "cell_type": "code",
   "execution_count": 67,
   "metadata": {},
   "outputs": [],
   "source": [
    "image, mask, gt = [x.to(device) for x in next(iterator_train)]\n",
    "\n",
    "output, _ = model(image, mask)\n",
    "\n",
    "loss_dict = criterion(image, mask, output, gt)\n",
    "\n",
    "loss = 0.0\n",
    "for key, coef in opt.LAMBDA_DICT.items():\n",
    "    value = coef * loss_dict[key]\n",
    "    loss += value\n",
    "    \n",
    "optimizer.zero_grad()\n",
    "loss.backward()\n",
    "#optimizer.step()"
   ]
  },
  {
   "cell_type": "code",
   "execution_count": 73,
   "metadata": {},
   "outputs": [],
   "source": [
    "l = None\n",
    "zero = True\n",
    "for p in model.parameters():\n",
    "    if p.grad is not None:\n",
    "        l = p \n",
    "        if zero:\n",
    "            p = torch.zeros(p.size())\n",
    "        #print(p)"
   ]
  },
  {
   "cell_type": "code",
   "execution_count": 90,
   "metadata": {},
   "outputs": [],
   "source": [
    "l = None\n",
    "zero = False\n",
    "for p in optimizer.param_groups[0]['params']:\n",
    "    if p.grad is not None:\n",
    "        l = p \n",
    "        if zero:\n",
    "            p = torch.zeros(p.size())"
   ]
  },
  {
   "cell_type": "code",
   "execution_count": 91,
   "metadata": {},
   "outputs": [
    {
     "data": {
      "text/plain": [
       "Parameter containing:\n",
       "tensor([-0.1430, -0.3788, -0.3005], device='cuda:0', requires_grad=True)"
      ]
     },
     "execution_count": 91,
     "metadata": {},
     "output_type": "execute_result"
    }
   ],
   "source": [
    "https://pytorch.org/docs/stable/autograd.html\n",
    "    \n",
    "https://discuss.pytorch.org/t/how-to-modify-the-gradient-manually/7483\n",
    "    \n",
    "https://discuss.pytorch.org/t/can-i-modify-weights-and-gradients-when-training-the-network/2772\n",
    "    \n",
    "https://discuss.pytorch.org/t/how-to-set-gradients-manually-and-update-weights-using-that/17428"
   ]
  },
  {
   "cell_type": "code",
   "execution_count": null,
   "metadata": {},
   "outputs": [],
   "source": []
  },
  {
   "cell_type": "code",
   "execution_count": 40,
   "metadata": {},
   "outputs": [],
   "source": [
    "# https://stackoverflow.com/questions/50751689/pytorch-how-grad-function-returning-result"
   ]
  }
 ],
 "metadata": {
  "kernelspec": {
   "display_name": "Python 3",
   "language": "python",
   "name": "python3"
  },
  "language_info": {
   "codemirror_mode": {
    "name": "ipython",
    "version": 3
   },
   "file_extension": ".py",
   "mimetype": "text/x-python",
   "name": "python",
   "nbconvert_exporter": "python",
   "pygments_lexer": "ipython3",
   "version": "3.6.8"
  }
 },
 "nbformat": 4,
 "nbformat_minor": 4
}
