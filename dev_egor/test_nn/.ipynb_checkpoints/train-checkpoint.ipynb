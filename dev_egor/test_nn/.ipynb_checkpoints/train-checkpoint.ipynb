{
 "cells": [
  {
   "cell_type": "code",
   "execution_count": 2,
   "metadata": {},
   "outputs": [],
   "source": [
    "import argparse\n",
    "import numpy as np\n",
    "import os\n",
    "import torch\n",
    "from tensorboardX import SummaryWriter\n",
    "from torch.utils import data\n",
    "from torchvision import transforms\n",
    "from tqdm import tqdm\n",
    "\n",
    "import opt\n",
    "from evaluation import evaluate\n",
    "from loss import InpaintingLoss\n",
    "from net import PConvUNet\n",
    "from net import VGG16FeatureExtractor\n",
    "from my_dataset import MyDataset\n",
    "from util.io import load_ckpt\n",
    "from util.io import save_ckpt\n"
   ]
  },
  {
   "cell_type": "code",
   "execution_count": 2,
   "metadata": {},
   "outputs": [
    {
     "data": {
      "text/plain": [
       "True"
      ]
     },
     "execution_count": 2,
     "metadata": {},
     "output_type": "execute_result"
    }
   ],
   "source": [
    "torch.cuda.is_available()"
   ]
  },
  {
   "cell_type": "code",
   "execution_count": 4,
   "metadata": {},
   "outputs": [
    {
     "name": "stdout",
     "output_type": "stream",
     "text": [
      "3889\n"
     ]
    }
   ],
   "source": [
    "class InfiniteSampler(data.sampler.Sampler):\n",
    "    def __init__(self, num_samples):\n",
    "        self.num_samples = num_samples\n",
    "\n",
    "    def __iter__(self):\n",
    "        return iter(self.loop())\n",
    "\n",
    "    def __len__(self):\n",
    "        return 2 ** 31\n",
    "\n",
    "    def loop(self):\n",
    "        i = 0\n",
    "        order = np.random.permutation(self.num_samples)\n",
    "        while True:\n",
    "            yield order[i]\n",
    "            i += 1\n",
    "            if i >= self.num_samples:\n",
    "                np.random.seed()\n",
    "                order = np.random.permutation(self.num_samples)\n",
    "                i = 0\n",
    "\n",
    "\n",
    "\n",
    "# training options\n",
    "root='./my_train'\n",
    "mask_root='./masks'\n",
    "save_dir='./snapshots/default/'\n",
    "log_dir='./logs/default'\n",
    "lr=2e-4\n",
    "lr_finetune=5e-5\n",
    "max_iter=2500\n",
    "batch_size=2\n",
    "n_threads=4\n",
    "save_model_interval=100\n",
    "vis_interval=500\n",
    "log_interval=100\n",
    "image_size=256\n",
    "finetune='store_true'\n",
    "#finetune=False\n",
    "\n",
    "resume = './snapshots/default/ckpt/1007800.pth'\n",
    "\n",
    "torch.backends.cudnn.benchmark = True\n",
    "device = torch.device('cuda')\n",
    "\n",
    "if not os.path.exists(save_dir):\n",
    "    os.makedirs('{:s}/images'.format(save_dir))\n",
    "    os.makedirs('{:s}/ckpt'.format(save_dir))\n",
    "\n",
    "if not os.path.exists( log_dir):\n",
    "    os.makedirs( log_dir)\n",
    "    \n",
    "writer = SummaryWriter(log_dir=log_dir)\n",
    "\n",
    "size = ( image_size,  image_size)\n",
    "img_tf = transforms.Compose(\n",
    "    [transforms.Resize(size=size), transforms.ToTensor(),\n",
    "     transforms.Normalize(mean=opt.MEAN, std=opt.STD)])\n",
    "mask_tf = transforms.Compose(\n",
    "    [transforms.Resize(size=size), transforms.ToTensor()])\n",
    "\n",
    "dataset_train = MyDataset(root,  mask_root, img_tf, mask_tf, 'train')\n",
    "dataset_val = MyDataset(root,  mask_root, img_tf, mask_tf, 'val')\n",
    "\n",
    "iterator_train = iter(data.DataLoader(\n",
    "    dataset_train, batch_size= batch_size,\n",
    "    sampler=InfiniteSampler(len(dataset_train)),\n",
    "    num_workers=n_threads, \n",
    "    shuffle=True))\n",
    "\n",
    "print(len(dataset_train))"
   ]
  },
  {
   "cell_type": "code",
   "execution_count": 6,
   "metadata": {},
   "outputs": [],
   "source": [
    "model = PConvUNet().to(device)\n",
    "\n",
    "if  finetune:\n",
    "    lr =  lr_finetune\n",
    "    model.freeze_enc_bn = True\n",
    "    print('fine_tuning: ',lr)\n",
    "else:\n",
    "    lr =  lr\n",
    "\n",
    "start_iter = 0\n",
    "optimizer = torch.optim.Adam(\n",
    "    filter(lambda p: p.requires_grad, model.parameters()), lr=lr)\n",
    "criterion = InpaintingLoss(VGG16FeatureExtractor()).to(device)\n",
    "\n",
    "if  resume:\n",
    "    start_iter = load_ckpt(\n",
    "         resume, [('model', model)], [('optimizer', optimizer)])\n",
    "    for param_group in optimizer.param_groups:\n",
    "        param_group['lr'] = lr\n",
    "    max_iter = max_iter+start_iter\n",
    "    print('Starting from iter ', start_iter)\n",
    "\n",
    "for i in tqdm(range(start_iter,  max_iter)):\n",
    "    model.train()\n",
    "\n",
    "    image, mask, gt = [x.to(device) for x in next(iterator_train)]\n",
    "    output, _ = model(image, mask)\n",
    "    loss_dict = criterion(image, mask, output, gt)\n",
    "\n",
    "    loss = 0.0\n",
    "    for key, coef in opt.LAMBDA_DICT.items():\n",
    "        value = coef * loss_dict[key]\n",
    "        loss += value\n",
    "        if (i + 1) %  log_interval == 0:\n",
    "            writer.add_scalar('loss_{:s}'.format(key), value.item(), i + 1)\n",
    "\n",
    "    optimizer.zero_grad()\n",
    "    loss.backward()\n",
    "    optimizer.step()\n",
    "\n",
    "    if (i + 1) %  save_model_interval == 0 or (i + 1) ==  max_iter:\n",
    "        save_ckpt('{:s}/ckpt/{:d}.pth'.format( save_dir, i + 1),\n",
    "                  [('model', model)], [('optimizer', optimizer)], i + 1)\n",
    "\n",
    "    if (i + 1) %  vis_interval == 0:\n",
    "        model.eval()\n",
    "        evaluate(model, dataset_val, device,\n",
    "                 '{:s}/images/test_{:d}.jpg'.format( save_dir, i + 1))\n",
    "\n",
    "writer.close()"
   ]
  }
 ],
 "metadata": {
  "kernelspec": {
   "display_name": "Python 3",
   "language": "python",
   "name": "python3"
  },
  "language_info": {
   "codemirror_mode": {
    "name": "ipython",
    "version": 3
   },
   "file_extension": ".py",
   "mimetype": "text/x-python",
   "name": "python",
   "nbconvert_exporter": "python",
   "pygments_lexer": "ipython3",
   "version": "3.6.8"
  }
 },
 "nbformat": 4,
 "nbformat_minor": 4
}
